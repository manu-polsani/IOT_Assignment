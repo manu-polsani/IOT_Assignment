{
 "cells": [
  {
   "cell_type": "markdown",
   "metadata": {},
   "source": [
    "Round robin"
   ]
  },
  {
   "cell_type": "code",
   "execution_count": 3,
   "metadata": {},
   "outputs": [
    {
     "name": "stdout",
     "output_type": "stream",
     "text": [
      "Running process A for 10 units of time.\n",
      "Running process B for 10 units of time.\n",
      "Running process C for 10 units of time.\n",
      "Running process D for 10 units of time.\n",
      "Running process A for 10 units of time.\n",
      "Running process B for 10 units of time.\n",
      "Running process C for 10 units of time.\n",
      "Running process D for 5 units of time.\n",
      "Running process A for 10 units of time.\n",
      "Running process C for 10 units of time.\n",
      "Running process C for 10 units of time.\n",
      "Total execution time: 105 units.\n"
     ]
    }
   ],
   "source": [
    "class Process:\n",
    "    def __init__(self, name, burst_time):\n",
    "        self.name = name\n",
    "        self.burst_time = burst_time\n",
    "\n",
    "def round_robin_scheduling(processes, time_quantum):\n",
    "    queue = processes.copy()\n",
    "    total_time = 0\n",
    "\n",
    "    while queue:\n",
    "        process = queue.pop(0)  # Get the first process in the queue\n",
    "        if process.burst_time <= time_quantum:\n",
    "            total_time += process.burst_time\n",
    "            print(f\"Running process {process.name} for {process.burst_time} units of time.\")\n",
    "        else:\n",
    "            total_time += time_quantum\n",
    "            print(f\"Running process {process.name} for {time_quantum} units of time.\")\n",
    "            # Add the process back to the queue with reduced burst time\n",
    "            queue.append(Process(process.name, process.burst_time - time_quantum))\n",
    "\n",
    "    print(f\"Total execution time: {total_time} units.\")\n",
    "\n",
    "if __name__ == \"__main__\":\n",
    "    process_A = Process(\"A\", 30)\n",
    "    process_B = Process(\"B\", 20)\n",
    "    process_C = Process(\"C\", 40)\n",
    "    process_D = Process(\"D\", 15)\n",
    "\n",
    "    processes = [process_A, process_B, process_C, process_D]\n",
    "\n",
    "    time_quantum = 10  # Adjust the time quantum as needed\n",
    "\n",
    "    round_robin_scheduling(processes, time_quantum)"
   ]
  },
  {
   "cell_type": "markdown",
   "metadata": {},
   "source": [
    "Priority"
   ]
  },
  {
   "cell_type": "code",
   "execution_count": 1,
   "metadata": {},
   "outputs": [
    {
     "name": "stdout",
     "output_type": "stream",
     "text": [
      "Running process B with priority 5 for 20 units of time.\n",
      "Running process D with priority 4 for 15 units of time.\n",
      "Running process A with priority 3 for 30 units of time.\n",
      "Running process C with priority 2 for 40 units of time.\n",
      "Total execution time: 105 units.\n"
     ]
    }
   ],
   "source": [
    "class Process:\n",
    "    def __init__(self, name, burst_time, priority):\n",
    "        self.name = name\n",
    "        self.burst_time = burst_time\n",
    "        self.priority = priority\n",
    "\n",
    "def priority_scheduling(processes):\n",
    "    # Sort the processes by priority in ascending order\n",
    "    sorted_processes = sorted(processes, key=lambda x: x.priority,reverse=True)\n",
    "    \n",
    "    total_time = 0\n",
    "    for process in sorted_processes:\n",
    "        print(f\"Running process {process.name} with priority {process.priority} for {process.burst_time} units of time.\")\n",
    "        total_time += process.burst_time\n",
    "\n",
    "    print(f\"Total execution time: {total_time} units.\")\n",
    "\n",
    "if __name__ == \"__main__\":\n",
    "    process_A = Process(\"A\", 30, 3)\n",
    "    process_B = Process(\"B\", 20, 5)\n",
    "    process_C = Process(\"C\", 40, 2)\n",
    "    process_D = Process(\"D\", 15, 4)\n",
    "\n",
    "    processes = [process_A, process_B, process_C, process_D]\n",
    "\n",
    "    priority_scheduling(processes)"
   ]
  },
  {
   "cell_type": "markdown",
   "metadata": {},
   "source": [
    "FCFS and SJF"
   ]
  },
  {
   "cell_type": "code",
   "execution_count": 6,
   "metadata": {},
   "outputs": [
    {
     "name": "stdout",
     "output_type": "stream",
     "text": [
      "FCFS Scheduling:\n",
      "Patient Schedule:\n",
      "1. Patient A with Urgency 3 for 30 units of time\n",
      "2. Patient B with Urgency 5 for 20 units of time\n",
      "3. Patient C with Urgency 2 for 40 units of time\n",
      "4. Patient D with Urgency 4 for 15 units of time\n",
      "\n",
      "SJF Scheduling:\n",
      "Patient Schedule:\n",
      "1. Patient D with Urgency 4 for 15 units of time\n",
      "2. Patient B with Urgency 5 for 20 units of time\n",
      "3. Patient A with Urgency 3 for 30 units of time\n",
      "4. Patient C with Urgency 2 for 40 units of time\n"
     ]
    }
   ],
   "source": [
    "import queue\n",
    "\n",
    "patients = [\n",
    "    {\"name\": \"A\", \"arrival_time\": 0, \"treatment_time\": 30, \"urgency_level\": 3},\n",
    "    {\"name\": \"B\", \"arrival_time\": 10, \"treatment_time\": 20, \"urgency_level\": 5},\n",
    "    {\"name\": \"C\", \"arrival_time\": 15, \"treatment_time\": 40, \"urgency_level\": 2},\n",
    "    {\"name\": \"D\", \"arrival_time\": 20, \"treatment_time\": 15, \"urgency_level\": 4},\n",
    "]\n",
    "\n",
    "def print_schedule(schedule):\n",
    "    print(\"Patient Schedule:\")\n",
    "    for i, patient in enumerate(schedule):\n",
    "        print(f\"{i + 1}. Patient {patient['name']} with Urgency {patient['urgency_level']} for {patient['treatment_time']} units of time\")\n",
    "\n",
    "# FCFS Scheduling\n",
    "def fcfs_scheduling(patients):\n",
    "    return sorted(patients, key=lambda x: x['arrival_time'])\n",
    "\n",
    "# SJF Scheduling\n",
    "def sjf_scheduling(patients):\n",
    "    return sorted(patients, key=lambda x: x['treatment_time'])\n",
    "\n",
    "\n",
    "\n",
    "if __name__ == \"__main__\":\n",
    "    # FCFS Scheduling\n",
    "    print(\"FCFS Scheduling:\")\n",
    "    fcfs_schedule = fcfs_scheduling(patients)\n",
    "    print_schedule(fcfs_schedule)\n",
    "\n",
    "    # SJF Scheduling\n",
    "    print(\"\\nSJF Scheduling:\")\n",
    "    sjf_schedule = sjf_scheduling(patients)\n",
    "    print_schedule(sjf_schedule)\n",
    "\n"
   ]
  },
  {
   "cell_type": "markdown",
   "metadata": {},
   "source": [
    "I would say PS would be best here because of level of Urgency"
   ]
  },
  {
   "cell_type": "code",
   "execution_count": null,
   "metadata": {},
   "outputs": [],
   "source": []
  }
 ],
 "metadata": {
  "kernelspec": {
   "display_name": "Python 3",
   "language": "python",
   "name": "python3"
  },
  "language_info": {
   "codemirror_mode": {
    "name": "ipython",
    "version": 3
   },
   "file_extension": ".py",
   "mimetype": "text/x-python",
   "name": "python",
   "nbconvert_exporter": "python",
   "pygments_lexer": "ipython3",
   "version": "3.10.5"
  },
  "orig_nbformat": 4
 },
 "nbformat": 4,
 "nbformat_minor": 2
}
