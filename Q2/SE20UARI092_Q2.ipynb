{
 "cells": [
  {
   "cell_type": "markdown",
   "metadata": {},
   "source": [
    "Round robin"
   ]
  },
  {
   "cell_type": "code",
   "execution_count": 3,
   "metadata": {},
   "outputs": [
    {
     "name": "stdout",
     "output_type": "stream",
     "text": [
      "Running process A for 10 units of time.\n",
      "Running process B for 10 units of time.\n",
      "Running process C for 10 units of time.\n",
      "Running process D for 10 units of time.\n",
      "Running process A for 10 units of time.\n",
      "Running process B for 10 units of time.\n",
      "Running process C for 10 units of time.\n",
      "Running process D for 5 units of time.\n",
      "Running process A for 10 units of time.\n",
      "Running process C for 10 units of time.\n",
      "Running process C for 10 units of time.\n",
      "Total execution time: 105 units.\n"
     ]
    }
   ],
   "source": [
    "class Process:\n",
    "    def __init__(self, name, burst_time):\n",
    "        self.name = name\n",
    "        self.burst_time = burst_time\n",
    "\n",
    "def round_robin_scheduling(processes, time_quantum):\n",
    "    queue = processes.copy()\n",
    "    total_time = 0\n",
    "\n",
    "    while queue:\n",
    "        process = queue.pop(0)  # Get the first process in the queue\n",
    "        if process.burst_time <= time_quantum:\n",
    "            total_time += process.burst_time\n",
    "            print(f\"Running process {process.name} for {process.burst_time} units of time.\")\n",
    "        else:\n",
    "            total_time += time_quantum\n",
    "            print(f\"Running process {process.name} for {time_quantum} units of time.\")\n",
    "            # Add the process back to the queue with reduced burst time\n",
    "            queue.append(Process(process.name, process.burst_time - time_quantum))\n",
    "\n",
    "    print(f\"Total execution time: {total_time} units.\")\n",
    "\n",
    "# Example usage:\n",
    "if __name__ == \"__main__\":\n",
    "    process_A = Process(\"A\", 30)\n",
    "    process_B = Process(\"B\", 20)\n",
    "    process_C = Process(\"C\", 40)\n",
    "    process_D = Process(\"D\", 15)\n",
    "\n",
    "    processes = [process_A, process_B, process_C, process_D]\n",
    "\n",
    "    time_quantum = 10  # Adjust the time quantum as needed\n",
    "\n",
    "    round_robin_scheduling(processes, time_quantum)"
   ]
  },
  {
   "cell_type": "code",
   "execution_count": null,
   "metadata": {},
   "outputs": [],
   "source": []
  }
 ],
 "metadata": {
  "kernelspec": {
   "display_name": "Python 3",
   "language": "python",
   "name": "python3"
  },
  "language_info": {
   "codemirror_mode": {
    "name": "ipython",
    "version": 3
   },
   "file_extension": ".py",
   "mimetype": "text/x-python",
   "name": "python",
   "nbconvert_exporter": "python",
   "pygments_lexer": "ipython3",
   "version": "3.10.5"
  },
  "orig_nbformat": 4
 },
 "nbformat": 4,
 "nbformat_minor": 2
}
