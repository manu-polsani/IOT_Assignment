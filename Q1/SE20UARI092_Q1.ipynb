{
 "cells": [
  {
   "cell_type": "markdown",
   "metadata": {},
   "source": [
    "FCFS"
   ]
  },
  {
   "cell_type": "code",
   "execution_count": 7,
   "metadata": {},
   "outputs": [
    {
     "name": "stdout",
     "output_type": "stream",
     "text": [
      "Average Waiting Time: 16.5\n",
      "Average Turnaround Time: 27.0\n"
     ]
    }
   ],
   "source": [
    "def preemptive_fcfs(arr):\n",
    "    SIZE = len(arr)\n",
    "    total_time = 0\n",
    "    waiting_time = [0] * SIZE\n",
    "    remaining_time = [process[2] for process in arr]\n",
    "\n",
    "    # print(\"FCFS Preemptive Scheduling:\")\n",
    "    # print(\"Process\\tWaiting Time\\tTurnaround Time\")\n",
    "\n",
    "    while any(remaining_time):\n",
    "        min_remaining_time = float(\"inf\")\n",
    "        min_index = -1\n",
    "\n",
    "        for i in range(SIZE):\n",
    "            if arr[i][1] <= total_time and remaining_time[i] < min_remaining_time and remaining_time[i] > 0:\n",
    "                min_remaining_time = remaining_time[i]\n",
    "                min_index = i\n",
    "\n",
    "        if min_index == -1:\n",
    "            total_time += 1\n",
    "        else:\n",
    "            remaining_time[min_index] -= 1\n",
    "            total_time += 1\n",
    "\n",
    "            if remaining_time[min_index] == 0:\n",
    "                waiting_time[min_index] = total_time - arr[min_index][1]\n",
    "\n",
    "    turnaround_time = [waiting_time[i] + process[2] for i, process in enumerate(arr)]\n",
    "    avg_waiting_time = sum(waiting_time) / SIZE\n",
    "    avg_turnaround_time = sum(turnaround_time) / SIZE\n",
    "\n",
    "    # for i in range(SIZE):\n",
    "    #     print(f\"{arr[i][0]}\\t{waiting_time[i]}\\t\\t{turnaround_time[i]}\")\n",
    "\n",
    "    print(f\"Average Waiting Time: {avg_waiting_time}\")\n",
    "    print(f\"Average Turnaround Time: {avg_turnaround_time}\")\n",
    "\n",
    "if __name__ == \"__main__\":\n",
    "    processes_preemptive_fcfs = [\n",
    "        (\"P1\", 0, 24, 3),\n",
    "        (\"P2\", 4, 3, 1),\n",
    "        (\"P3\", 5, 3, 4),\n",
    "        (\"P4\", 6, 12, 2)\n",
    "    ]\n",
    "\n",
    "    preemptive_fcfs(processes_preemptive_fcfs)"
   ]
  },
  {
   "cell_type": "code",
   "execution_count": 8,
   "metadata": {},
   "outputs": [
    {
     "name": "stdout",
     "output_type": "stream",
     "text": [
      "\n",
      "Shortest Job First:\n",
      "Average Waiting Time: 16.5\n",
      "Average Turnaround Time: 27.0\n",
      "\n",
      "Round Robin:\n",
      "Average Waiting Time: 8.0\n",
      "Average Turnaround Time: 18.5\n"
     ]
    }
   ],
   "source": [
    "\n",
    "def shortest_job_first(processes, burst_times, arrival_times):\n",
    "    n = len(processes)\n",
    "    waiting_time = [0] * n\n",
    "    turnaround_time = [0] * n\n",
    "\n",
    "    burst_remaining = burst_times.copy()\n",
    "    total_time = 0\n",
    "\n",
    "    while True:\n",
    "        min_burst = float('inf')\n",
    "        shortest = -1\n",
    "        for i in range(n):\n",
    "            if arrival_times[i] <= total_time and burst_remaining[i] > 0 and burst_remaining[i] < min_burst:\n",
    "                min_burst = burst_remaining[i]\n",
    "                shortest = i\n",
    "\n",
    "        if shortest == -1:\n",
    "            total_time += 1\n",
    "        else:\n",
    "            waiting_time[shortest] = max(0, total_time - arrival_times[shortest])\n",
    "            total_time += burst_remaining[shortest]\n",
    "            burst_remaining[shortest] = 0\n",
    "\n",
    "        if sum(burst_remaining) == 0:\n",
    "            break\n",
    "\n",
    "    for i in range(n):\n",
    "        turnaround_time[i] = burst_times[i] + waiting_time[i]\n",
    "\n",
    "    avg_waiting_time = sum(waiting_time) / n\n",
    "    avg_turnaround_time = sum(turnaround_time) / n\n",
    "\n",
    "    return avg_waiting_time, avg_turnaround_time\n",
    "\n",
    "def round_robin(processes, burst_times, arrival_times, quantum):\n",
    "    n = len(processes)\n",
    "    waiting_time = [0] * n\n",
    "    turnaround_time = [0] * n\n",
    "\n",
    "    remaining_burst = burst_times.copy()\n",
    "    time = 0\n",
    "\n",
    "    while True:\n",
    "        done = True\n",
    "        for i in range(n):\n",
    "            if arrival_times[i] <= time and remaining_burst[i] > 0:\n",
    "                done = False\n",
    "                if remaining_burst[i] > quantum:\n",
    "                    time += quantum\n",
    "                    remaining_burst[i] -= quantum\n",
    "                else:\n",
    "                    time += remaining_burst[i]\n",
    "                    waiting_time[i] = max(0, time - arrival_times[i] - burst_times[i])\n",
    "                    remaining_burst[i] = 0\n",
    "\n",
    "        if done:\n",
    "            break\n",
    "\n",
    "    for i in range(n):\n",
    "        turnaround_time[i] = burst_times[i] + waiting_time[i]\n",
    "\n",
    "    avg_waiting_time = sum(waiting_time) / n\n",
    "    avg_turnaround_time = sum(turnaround_time) / n\n",
    "\n",
    "    return avg_waiting_time, avg_turnaround_time\n",
    "\n",
    "processes = [1, 2, 3, 4]\n",
    "burst_times = [24, 3, 3, 12]\n",
    "arrival_times = [0, 4, 5, 6]\n",
    "priorities = [3 , 1, 4, 2]\n",
    "quantum = 4\n",
    "\n",
    "avg_waiting_sjf, avg_turnaround_sjf = shortest_job_first(processes, burst_times, arrival_times)\n",
    "avg_waiting_rr, avg_turnaround_rr = round_robin(processes, burst_times, arrival_times, quantum)\n",
    "\n",
    "\n",
    "print(\"\\nShortest Job First:\")\n",
    "print(\"Average Waiting Time:\", avg_waiting_sjf)\n",
    "print(\"Average Turnaround Time:\", avg_turnaround_sjf)\n",
    "\n",
    "print(\"\\nRound Robin:\")\n",
    "print(\"Average Waiting Time:\", avg_waiting_rr)\n",
    "print(\"Average Turnaround Time:\", avg_turnaround_rr)\n"
   ]
  },
  {
   "cell_type": "markdown",
   "metadata": {},
   "source": [
    "Priority Scheduling"
   ]
  },
  {
   "cell_type": "code",
   "execution_count": 9,
   "metadata": {},
   "outputs": [
    {
     "name": "stdout",
     "output_type": "stream",
     "text": [
      "Average Waiting Time: 14.5\n",
      "Average Turnaround Time: 25.0\n"
     ]
    }
   ],
   "source": [
    "def priority_scheduling(processes):\n",
    "    n = len(processes)\n",
    "    wt = [0] * n\n",
    "    tat = [0] * n\n",
    "    processes_sorted = sorted(processes, key=lambda x: (x['priority'], x['arrival_time']))\n",
    "    completion_time = processes_sorted[0]['arrival_time']\n",
    "\n",
    "    for i in range(n):\n",
    "        if completion_time < processes_sorted[i]['arrival_time']:\n",
    "            completion_time = processes_sorted[i]['arrival_time']\n",
    "        wt[processes.index(processes_sorted[i])] = completion_time - processes_sorted[i]['arrival_time']\n",
    "        completion_time += processes_sorted[i]['burst_time']\n",
    "        tat[processes.index(processes_sorted[i])] = wt[processes.index(processes_sorted[i])] + processes_sorted[i]['burst_time']\n",
    "\n",
    "    return wt, tat\n",
    "\n",
    "if __name__ == \"__main__\":\n",
    "    processes = [\n",
    "        {\"name\": \"P1\", \"arrival_time\": 0, \"burst_time\": 24, \"priority\": 3},\n",
    "    {\"name\": \"P2\", \"arrival_time\": 4, \"burst_time\": 3, \"priority\": 1},\n",
    "    {\"name\": \"P3\", \"arrival_time\": 5, \"burst_time\": 3, \"priority\": 4},\n",
    "    {\"name\": \"P4\", \"arrival_time\": 6, \"burst_time\": 12, \"priority\": 2}\n",
    "    ]\n",
    "\n",
    "\n",
    "    wt, tat = priority_scheduling(processes)\n",
    "\n",
    "    avg_waiting_time = sum(wt) / len(processes)\n",
    "    avg_turnaround_time = sum(tat) / len(processes)\n",
    "\n",
    "    print(f\"Average Waiting Time: {avg_waiting_time}\")\n",
    "    print(f\"Average Turnaround Time: {avg_turnaround_time}\")"
   ]
  },
  {
   "cell_type": "markdown",
   "metadata": {},
   "source": [
    "So, we can conclude Round round works best here with respect to waiting and turnaround time."
   ]
  }
 ],
 "metadata": {
  "kernelspec": {
   "display_name": "Python 3",
   "language": "python",
   "name": "python3"
  },
  "language_info": {
   "codemirror_mode": {
    "name": "ipython",
    "version": 3
   },
   "file_extension": ".py",
   "mimetype": "text/x-python",
   "name": "python",
   "nbconvert_exporter": "python",
   "pygments_lexer": "ipython3",
   "version": "3.10.5"
  },
  "orig_nbformat": 4
 },
 "nbformat": 4,
 "nbformat_minor": 2
}
